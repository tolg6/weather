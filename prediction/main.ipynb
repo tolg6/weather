{
 "cells": [
  {
   "cell_type": "code",
   "execution_count": null,
   "id": "d40fcfc4",
   "metadata": {},
   "outputs": [],
   "source": [
    "## libraries\n",
    "import os\n",
    "from dotenv import load_dotenv\n",
    "import pandas as pd\n",
    "\n",
    "\n",
    "## utils\n",
    "import utils.db_connector"
   ]
  },
  {
   "cell_type": "code",
   "execution_count": 7,
   "id": "aeabc06d",
   "metadata": {},
   "outputs": [],
   "source": [
    "# load .env file\n",
    "load_dotenv()\n",
    "\n",
    "DB_CONFIG = {\n",
    "    \"host\": os.getenv(\"DB_HOST\"),\n",
    "    \"port\": os.getenv(\"DB_PORT\"),\n",
    "    \"name\": os.getenv(\"DB_NAME\"),\n",
    "    \"user\": os.getenv(\"DB_USER\"),\n",
    "    \"password\": os.getenv(\"DB_PASSWORD\")\n",
    "}"
   ]
  },
  {
   "cell_type": "code",
   "execution_count": null,
   "id": "75772136",
   "metadata": {},
   "outputs": [
    {
     "name": "stderr",
     "output_type": "stream",
     "text": [
      "C:\\Users\\TolgaKurt\\AppData\\Local\\Temp\\ipykernel_5720\\532061987.py:3: UserWarning: pandas only supports SQLAlchemy connectable (engine/connection) or database string URI or sqlite3 DBAPI2 connection. Other DBAPI2 objects are not tested. Please consider using SQLAlchemy.\n",
      "  data = pd.read_sql(\"SELECT * FROM public.weather_data_0001\", db_connector)\n"
     ]
    }
   ],
   "source": [
    "## Connect to the database\n",
    "db_connector = utils.db_connector.Connector(DB_CONFIG).connect()\n",
    "\n",
    "## Query data from the database\n",
    "data = pd.read_sql(\"SELECT * FROM public.weather_data_0001\", db_connector)"
   ]
  }
 ],
 "metadata": {
  "kernelspec": {
   "display_name": "venv",
   "language": "python",
   "name": "python3"
  },
  "language_info": {
   "codemirror_mode": {
    "name": "ipython",
    "version": 3
   },
   "file_extension": ".py",
   "mimetype": "text/x-python",
   "name": "python",
   "nbconvert_exporter": "python",
   "pygments_lexer": "ipython3",
   "version": "3.10.11"
  }
 },
 "nbformat": 4,
 "nbformat_minor": 5
}
